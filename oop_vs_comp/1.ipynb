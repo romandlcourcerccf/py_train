{
 "cells": [
  {
   "cell_type": "code",
   "execution_count": 6,
   "id": "9853b2a3",
   "metadata": {},
   "outputs": [],
   "source": [
    "class PayrollSystem:\n",
    "    def calc_payroll(self, employees):\n",
    "        for employee in employees:\n",
    "            print(f'Payroll for {employee.id} {employee.name}')\n",
    "            print(f'Calc payroll {employee.calc_payroll()}')\n"
   ]
  },
  {
   "cell_type": "code",
   "execution_count": 10,
   "id": "7faaca0a",
   "metadata": {},
   "outputs": [
    {
     "name": "stdout",
     "output_type": "stream",
     "text": [
      "Payroll for 1 Jahn Snith\n",
      "Calc payroll 1500\n",
      "Payroll for 2 John Doy\n",
      "Calc payroll 600\n",
      "Payroll for 3 Kevin Bacon\n",
      "Calc payroll 1250\n",
      "Payroll for 0 Invalid\n"
     ]
    },
    {
     "ename": "AttributeError",
     "evalue": "'Employee' object has no attribute 'calc_payroll'",
     "output_type": "error",
     "traceback": [
      "\u001b[0;31m---------------------------------------------------------------------------\u001b[0m",
      "\u001b[0;31mAttributeError\u001b[0m                            Traceback (most recent call last)",
      "Cell \u001b[0;32mIn[10], line 41\u001b[0m\n\u001b[1;32m     37\u001b[0m comission_employee \u001b[38;5;241m=\u001b[39m ComissionEmployee(\u001b[38;5;241m3\u001b[39m, \u001b[38;5;124m'\u001b[39m\u001b[38;5;124mKevin Bacon\u001b[39m\u001b[38;5;124m'\u001b[39m, \u001b[38;5;241m1000\u001b[39m, \u001b[38;5;241m250\u001b[39m)\n\u001b[1;32m     39\u001b[0m payroll_system \u001b[38;5;241m=\u001b[39m PayrollSystem()\n\u001b[0;32m---> 41\u001b[0m \u001b[43mpayroll_system\u001b[49m\u001b[38;5;241;43m.\u001b[39;49m\u001b[43mcalc_payroll\u001b[49m\u001b[43m(\u001b[49m\u001b[43m[\u001b[49m\u001b[43msalary_employee\u001b[49m\u001b[43m,\u001b[49m\u001b[43m \u001b[49m\u001b[43mhourly_employee\u001b[49m\u001b[43m,\u001b[49m\u001b[43m \u001b[49m\u001b[43mcomission_employee\u001b[49m\u001b[43m,\u001b[49m\u001b[43m \u001b[49m\u001b[43memployee\u001b[49m\u001b[43m]\u001b[49m\u001b[43m)\u001b[49m\n",
      "Cell \u001b[0;32mIn[6], line 5\u001b[0m, in \u001b[0;36mPayrollSystem.calc_payroll\u001b[0;34m(self, employees)\u001b[0m\n\u001b[1;32m      3\u001b[0m \u001b[38;5;28;01mfor\u001b[39;00m employee \u001b[38;5;129;01min\u001b[39;00m employees:\n\u001b[1;32m      4\u001b[0m     \u001b[38;5;28mprint\u001b[39m(\u001b[38;5;124mf\u001b[39m\u001b[38;5;124m'\u001b[39m\u001b[38;5;124mPayroll for \u001b[39m\u001b[38;5;132;01m{\u001b[39;00memployee\u001b[38;5;241m.\u001b[39mid\u001b[38;5;132;01m}\u001b[39;00m\u001b[38;5;124m \u001b[39m\u001b[38;5;132;01m{\u001b[39;00memployee\u001b[38;5;241m.\u001b[39mname\u001b[38;5;132;01m}\u001b[39;00m\u001b[38;5;124m'\u001b[39m)\n\u001b[0;32m----> 5\u001b[0m     \u001b[38;5;28mprint\u001b[39m(\u001b[38;5;124mf\u001b[39m\u001b[38;5;124m'\u001b[39m\u001b[38;5;124mCalc payroll \u001b[39m\u001b[38;5;132;01m{\u001b[39;00m\u001b[43memployee\u001b[49m\u001b[38;5;241;43m.\u001b[39;49m\u001b[43mcalc_payroll\u001b[49m()\u001b[38;5;132;01m}\u001b[39;00m\u001b[38;5;124m'\u001b[39m)\n",
      "\u001b[0;31mAttributeError\u001b[0m: 'Employee' object has no attribute 'calc_payroll'"
     ]
    }
   ],
   "source": [
    "class Employee:\n",
    "    def __init__(self, id, name):\n",
    "        self.id = id\n",
    "        self.name = name\n",
    "\n",
    "    \n",
    "class SalaryEmployee(Employee):\n",
    "    def __init__(self, id, name, weekly_salary):\n",
    "        super().__init__(id, name)\n",
    "        self.weekly_salary = weekly_salary\n",
    "\n",
    "    def calc_payroll(self):\n",
    "        return self.weekly_salary\n",
    "    \n",
    "    \n",
    "class HourlyEmployee(Employee):\n",
    "    def __init__(self, id, name, hours_worked, hourly_rate):\n",
    "        super().__init__(id, name)\n",
    "        self.hours_worked = hours_worked\n",
    "        self.hourly_rate = hourly_rate\n",
    "    \n",
    "    def calc_payroll(self):\n",
    "        return self.hours_worked * self.hourly_rate\n",
    "\n",
    "class ComissionEmployee(SalaryEmployee):\n",
    "    def __init__(self, id, name, weekly_salary, comission):\n",
    "        super().__init__(id, name, weekly_salary)\n",
    "        self.comission = comission\n",
    "\n",
    "    def calc_payroll(self):\n",
    "        fixed = super().calc_payroll()\n",
    "        return fixed + self.comission\n",
    "    \n",
    "employee = Employee(0, 'Invalid')\n",
    "salary_employee = SalaryEmployee(1, 'Jahn Snith', 1500)\n",
    "hourly_employee = HourlyEmployee(2, 'John Doy', 40, 15)\n",
    "comission_employee = ComissionEmployee(3, 'Kevin Bacon', 1000, 250)\n",
    "\n",
    "payroll_system = PayrollSystem()\n",
    "\n",
    "payroll_system.calc_payroll([salary_employee, hourly_employee, comission_employee, employee])\n"
   ]
  },
  {
   "cell_type": "code",
   "execution_count": null,
   "id": "a5c5fd28",
   "metadata": {},
   "outputs": [
    {
     "name": "stdout",
     "output_type": "stream",
     "text": [
      "Payroll for 1 Jahn Snith\n",
      "Calc payroll 1500\n",
      "Payroll for 2 John Doy\n",
      "Calc payroll 600\n",
      "Payroll for 3 Kevin Bacon\n",
      "Calc payroll 1250\n",
      "Payroll for 4 John von Neuman\n",
      "Calc payroll 1000000\n"
     ]
    }
   ],
   "source": [
    "from  abc import ABC, abstractmethod\n",
    "\n",
    "class Employee(ABC):\n",
    "    def __init__(self, id, name):\n",
    "        self.id = id\n",
    "        self.name = name\n",
    "    \n",
    "    @abstractmethod\n",
    "    def calc_payroll(self):\n",
    "        pass\n",
    "\n",
    "class UnclassifiedEmployee:\n",
    "\n",
    "    def __init__(self, id, name):\n",
    "        self.id = id\n",
    "        self.name = name\n",
    "    \n",
    "    def calc_payroll(self):\n",
    "        return 1_000_000\n",
    "\n",
    "class SalaryEmployee(Employee):\n",
    "    def __init__(self, id, name, weekly_salary):\n",
    "        super().__init__(id, name)\n",
    "        self.weekly_salary = weekly_salary\n",
    "\n",
    "    def calc_payroll(self):\n",
    "        return self.weekly_salary\n",
    "    \n",
    "    \n",
    "class HourlyEmployee(Employee):\n",
    "    def __init__(self, id, name, hours_worked, hourly_rate):\n",
    "        super().__init__(id, name)\n",
    "        self.hours_worked = hours_worked\n",
    "        self.hourly_rate = hourly_rate\n",
    "    \n",
    "    def calc_payroll(self):\n",
    "        return self.hours_worked * self.hourly_rate\n",
    "\n",
    "class ComissionEmployee(SalaryEmployee):\n",
    "    def __init__(self, id, name, weekly_salary, comission):\n",
    "        super().__init__(id, name, weekly_salary)\n",
    "        self.comission = comission\n",
    "\n",
    "    def calc_payroll(self):\n",
    "        fixed = super().calc_payroll()\n",
    "        return fixed + self.comission\n",
    "    \n",
    "# employee = Employee(0, 'Invalid')\n",
    "\n",
    "salary_employee = SalaryEmployee(1, 'Jahn Snith', 1500)\n",
    "hourly_employee = HourlyEmployee(2, 'John Doy', 40, 15)\n",
    "comission_employee = ComissionEmployee(3, 'Kevin Bacon', 1000, 250)\n",
    "\n",
    "payroll_system = PayrollSystem()\n",
    "\n",
    "payroll_system.calc_payroll([salary_employee, hourly_employee, comission_employee])\n"
   ]
  },
  {
   "cell_type": "code",
   "execution_count": null,
   "id": "3d1e93a1",
   "metadata": {},
   "outputs": [],
   "source": []
  }
 ],
 "metadata": {
  "kernelspec": {
   "display_name": "algo_train",
   "language": "python",
   "name": "python3"
  },
  "language_info": {
   "codemirror_mode": {
    "name": "ipython",
    "version": 3
   },
   "file_extension": ".py",
   "mimetype": "text/x-python",
   "name": "python",
   "nbconvert_exporter": "python",
   "pygments_lexer": "ipython3",
   "version": "3.11.9"
  }
 },
 "nbformat": 4,
 "nbformat_minor": 5
}
