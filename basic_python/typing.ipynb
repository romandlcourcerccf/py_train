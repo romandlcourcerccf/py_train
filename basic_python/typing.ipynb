{
 "cells": [
  {
   "cell_type": "code",
   "execution_count": null,
   "metadata": {},
   "outputs": [],
   "source": [
    "from typing import Any\n",
    "\n",
    "def f(x: Any) -> Any:\n",
    "    return x * 2"
   ]
  },
  {
   "cell_type": "code",
   "execution_count": null,
   "metadata": {},
   "outputs": [],
   "source": [
    "from typing import Optional, Union, Tuple\n",
    "\n",
    "def f1(count: int, mode: Optional[str]=None) -> str:\n",
    "    pass\n",
    "\n",
    "def f1(count: int, mode: Optional[str]=None) -> str:\n",
    "    pass\n",
    "\n",
    "def f1(count: int, mode: Union[str, None]) -> str:\n",
    "    pass\n",
    "\n",
    "def f1(count: int, mode: str|None = None) -> str:\n",
    "    pass\n",
    "\n"
   ]
  },
  {
   "cell_type": "code",
   "execution_count": null,
   "metadata": {},
   "outputs": [],
   "source": [
    "from typing import Optional, Union, Tuple\n",
    "\n",
    "def f(arg_1: str, arg_2: str ) ->  Tuple[str, str]\n",
    "    return (arg_1, arg_2)"
   ]
  },
  {
   "cell_type": "code",
   "execution_count": null,
   "metadata": {},
   "outputs": [],
   "source": []
  }
 ],
 "metadata": {
  "language_info": {
   "name": "python"
  },
  "orig_nbformat": 4
 },
 "nbformat": 4,
 "nbformat_minor": 2
}
