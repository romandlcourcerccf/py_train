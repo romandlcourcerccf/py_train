{
 "cells": [
  {
   "attachments": {},
   "cell_type": "markdown",
   "metadata": {},
   "source": [
    "Fuct is object in Python\n",
    "Any func that takes func as argument or return func is higher-order func"
   ]
  },
  {
   "cell_type": "code",
   "execution_count": 1,
   "metadata": {},
   "outputs": [],
   "source": [
    "def factorial(n):\n",
    "    \"\"\"\n",
    "        returns n!\n",
    "    \"\"\"\n",
    "    return 1 if n < 2 else n * factorial(n-1)\n",
    "\n"
   ]
  },
  {
   "cell_type": "code",
   "execution_count": 4,
   "metadata": {},
   "outputs": [
    {
     "data": {
      "text/plain": [
       "[1, 6, 120, 5040, 362880]"
      ]
     },
     "execution_count": 4,
     "metadata": {},
     "output_type": "execute_result"
    }
   ],
   "source": [
    "list(map(factorial, filter(lambda x: x %2, range(10))))"
   ]
  },
  {
   "cell_type": "code",
   "execution_count": 7,
   "metadata": {},
   "outputs": [
    {
     "data": {
      "text/plain": [
       "[1, 6, 120, 5040, 362880]"
      ]
     },
     "execution_count": 7,
     "metadata": {},
     "output_type": "execute_result"
    }
   ],
   "source": [
    "[factorial(n)  for n in range(10) if n % 2 ]"
   ]
  },
  {
   "attachments": {},
   "cell_type": "markdown",
   "metadata": {},
   "source": [
    "!!lambda is an anonymus function!!"
   ]
  },
  {
   "attachments": {},
   "cell_type": "markdown",
   "metadata": {},
   "source": [
    "Nine Callable types\n",
    "\n",
    "Built-in methods\n",
    "\n",
    "Methods implemented in C, like dict.get. Methods\n",
    "Functions defined in the body of a class.\n",
    "Classes\n",
    "\n",
    "When invoked, a class runs its __new__ method to create an instance, then __init__ to initialize it, and finally the instance is returned to the caller. Because there is no new operator in Python, calling a class is like calling a function.2\n",
    "Class instances\n",
    "\n",
    "If a class defines a __call__ method, then its instances may be invoked as func‐ tions—that’s the subject of the next section.\n",
    "Generator functions\n",
    "\n",
    "Functions or methods that use the yield keyword in their body. When called, they return a generator object.\n",
    "Native coroutine functions\n",
    "\n",
    "Functions or methods defined with async def. When called, they return a coroutine object. Added in Python 3.5.\n",
    "Asynchronous generator functions\n",
    "\n",
    "Functions or methods defined with async def that have yield in their body. When called, they return an asynchronous generator for use with async for. Added in Python 3.6."
   ]
  },
  {
   "cell_type": "code",
   "execution_count": 10,
   "metadata": {},
   "outputs": [
    {
     "name": "stdout",
     "output_type": "stream",
     "text": [
      "5\n",
      "6\n",
      "7\n"
     ]
    }
   ],
   "source": [
    "class CallableClass:\n",
    "\n",
    "    \"\"\"\n",
    "    Func like object gives opportunity to save states \n",
    "    \"\"\"\n",
    "\n",
    "    def __init__(self, val):\n",
    "        self.val = val\n",
    "    \n",
    "    def __call__(self):\n",
    "        self.val +=1\n",
    "        return self.val\n",
    "    \n",
    "cc = CallableClass(4)\n",
    "\n",
    "print(cc())\n",
    "print(cc())\n",
    "print(cc())\n",
    "\n"
   ]
  },
  {
   "cell_type": "code",
   "execution_count": null,
   "metadata": {},
   "outputs": [],
   "source": []
  },
  {
   "cell_type": "code",
   "execution_count": null,
   "metadata": {},
   "outputs": [],
   "source": []
  }
 ],
 "metadata": {
  "kernelspec": {
   "display_name": "py_train_2",
   "language": "python",
   "name": "python3"
  },
  "language_info": {
   "codemirror_mode": {
    "name": "ipython",
    "version": 3
   },
   "file_extension": ".py",
   "mimetype": "text/x-python",
   "name": "python",
   "nbconvert_exporter": "python",
   "pygments_lexer": "ipython3",
   "version": "3.10.11"
  },
  "orig_nbformat": 4
 },
 "nbformat": 4,
 "nbformat_minor": 2
}
